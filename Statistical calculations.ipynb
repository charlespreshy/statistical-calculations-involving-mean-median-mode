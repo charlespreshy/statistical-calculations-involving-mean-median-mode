{
 "cells": [
  {
   "cell_type": "markdown",
   "metadata": {},
   "source": [
    "#### Statistics for machine learning\n",
    "\n",
    "Statistics is a field of study concerned with summarizing data, interpreting data and making decisions based on data.\n",
    "Statistics is divided into:\n",
    " - Descriptive statistics: numbers that are used to summarise data. It is a collection of methods for summarizing data. (E.g., mean, median, mode, range, variance, graphs)\n",
    "\n",
    " - Inferential statistics: this is a collection of methods for using sample data to make conclusions about a population. We have different kinds of samples : A complete sample, An unbiased(representative) sample, Random sample "
   ]
  },
  {
   "cell_type": "markdown",
   "metadata": {},
   "source": [
    "Quiz:\n",
    "\n",
    "write a program that will accept the values: 3,4,5,6,2,4,1,7,8,9,11,4,5,7\n",
    "and calculate the mean, mode, median, and standard devaition."
   ]
  },
  {
   "cell_type": "code",
   "execution_count": 29,
   "metadata": {},
   "outputs": [
    {
     "name": "stdout",
     "output_type": "stream",
     "text": [
      "The number of items in the list is:  14\n",
      "The sum of the numbers in the list is:  76\n",
      "5.428571428571429\n",
      "1.0\n"
     ]
    }
   ],
   "source": [
    "x = [3,4,5,6,2,4,1,7,8,9,11,4,5,7]\n",
    "n = len(x)\n",
    "z = sum(x)\n",
    "\n",
    "print(\"The number of items in the list is: \", n)\n",
    "print(\"The sum of the numbers in the list is: \", z)\n",
    "\n",
    "mean = z/n\n",
    "print(mean)\n",
    "\n",
    "#mode = data.counter(x)\n",
    "x.sort()\n",
    "if len(x) % 2 == 0:\n",
    "    a = x[len(x)//2]\n",
    "    b = x[len(x)//2-1]\n",
    "    median = a/b\n",
    "else:\n",
    "    median = x[len(x)//2]\n",
    "print(median)"
   ]
  },
  {
   "cell_type": "code",
   "execution_count": 2,
   "metadata": {},
   "outputs": [
    {
     "name": "stdout",
     "output_type": "stream",
     "text": [
      "The sum of the numbers is =  76\n",
      "The total number of items in the list is =  14\n"
     ]
    }
   ],
   "source": [
    "#without the use of built in functions\n",
    "data = [3,4,5,6,2,4,1,7,8,9,11,4,5,7]\n",
    "\n",
    "x = 0\n",
    "counter = 0\n",
    "\n",
    "for item in data:\n",
    "    x += item\n",
    "    counter += 1\n",
    "    \n",
    "print(\"The sum of the numbers is = \", x)\n",
    "print(\"The total number of items in the list is = \", counter)"
   ]
  },
  {
   "cell_type": "code",
   "execution_count": 3,
   "metadata": {},
   "outputs": [
    {
     "name": "stdout",
     "output_type": "stream",
     "text": [
      "5.428571428571429\n"
     ]
    }
   ],
   "source": [
    "#calculating the mean\n",
    "mean = x/counter\n",
    "print(mean)"
   ]
  },
  {
   "cell_type": "code",
   "execution_count": 4,
   "metadata": {},
   "outputs": [
    {
     "name": "stdout",
     "output_type": "stream",
     "text": [
      "[1, 2, 3, 4, 4, 4, 5, 5, 6, 7, 7, 8, 9, 11]\n",
      "The mode of the list of numbers is:  4\n",
      "The mode frequency is:  3\n"
     ]
    }
   ],
   "source": [
    "#calculating mode\n",
    "data.sort()#to print \n",
    "print(data)\n",
    "\n",
    "mode_count = 0\n",
    "for item in data:\n",
    "    if data.count(item) > mode_count:\n",
    "        mode_count = data.count(item)\n",
    "        mode = item\n",
    "print(\"The mode of the list of numbers is: \", mode)\n",
    "print(\"The mode frequency is: \", mode_count)"
   ]
  },
  {
   "cell_type": "code",
   "execution_count": 5,
   "metadata": {},
   "outputs": [
    {
     "name": "stdout",
     "output_type": "stream",
     "text": [
      "Median is:  5.0\n"
     ]
    }
   ],
   "source": [
    "#calculating median\n",
    "median = (data[6] + data[7])/2\n",
    "print(\"Median is: \", median)"
   ]
  },
  {
   "cell_type": "code",
   "execution_count": 8,
   "metadata": {},
   "outputs": [
    {
     "name": "stdout",
     "output_type": "stream",
     "text": [
      "Deviation of x =  19.612244897959187\n",
      "Deviation of x =  31.367346938775515\n",
      "Deviation of x =  37.26530612244898\n",
      "Deviation of x =  39.30612244897959\n",
      "Deviation of x =  41.3469387755102\n",
      "Deviation of x =  43.38775510204081\n",
      "Deviation of x =  43.57142857142857\n",
      "Deviation of x =  43.755102040816325\n",
      "Deviation of x =  44.08163265306122\n",
      "Deviation of x =  46.55102040816326\n",
      "Deviation of x =  49.0204081632653\n",
      "Deviation of x =  55.63265306122448\n",
      "Deviation of x =  68.38775510204081\n",
      "Deviation of x =  99.42857142857142\n",
      "Standard deviation of x =  2.665\n"
     ]
    }
   ],
   "source": [
    "#standard deviation\n",
    "\n",
    "dev = 0\n",
    "\n",
    "for item in data:\n",
    "    dev += (item - mean) ** 2\n",
    "    print(\"Deviation of x = \", dev)\n",
    "    \n",
    "std = (dev/counter) ** 0.5\n",
    "\n",
    "print(\"Standard deviation of x = \", round(std,3))"
   ]
  }
 ],
 "metadata": {
  "kernelspec": {
   "display_name": "Python 3",
   "language": "python",
   "name": "python3"
  },
  "language_info": {
   "codemirror_mode": {
    "name": "ipython",
    "version": 3
   },
   "file_extension": ".py",
   "mimetype": "text/x-python",
   "name": "python",
   "nbconvert_exporter": "python",
   "pygments_lexer": "ipython3",
   "version": "3.7.3"
  }
 },
 "nbformat": 4,
 "nbformat_minor": 2
}
